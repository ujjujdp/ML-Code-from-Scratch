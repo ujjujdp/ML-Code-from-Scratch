{
  "nbformat": 4,
  "nbformat_minor": 0,
  "metadata": {
    "colab": {
      "provenance": [],
      "collapsed_sections": []
    },
    "kernelspec": {
      "name": "python3",
      "display_name": "Python 3"
    },
    "language_info": {
      "name": "python"
    }
  },
  "cells": [
    {
      "cell_type": "code",
      "execution_count": 25,
      "metadata": {
        "id": "uimpBzjlqUO_"
      },
      "outputs": [],
      "source": [
        "import numpy as np"
      ]
    },
    {
      "cell_type": "code",
      "source": [
        "class CNN:\n",
        "  def __init__(self, filter_size=3, n_filters=1, stride=1, padding=0, filter_passed_flag = False):\n",
        "    self.n_filters = n_filters\n",
        "    self.filter_size = filter_size\n",
        "    self.filters = []\n",
        "    self.stride = stride\n",
        "    self.padding = padding\n",
        "    self.filter_passed_flag = filter_passed_flag\n",
        "\n",
        "  def forward(self,image, filter=0):\n",
        "    # Defining Filters\n",
        "    if (self.padding != 0):\n",
        "      image = np.pad(image, ((0,0),(self.padding,self.padding),(self.padding,self.padding)), mode='constant',constant_values=0)\n",
        "\n",
        "    print(image.shape)\n",
        "    if(self.filter_passed_flag == False):\n",
        "      for i in range(self.n_filters):\n",
        "        self.filters.append(np.random.rand(image.shape[0], self.filter_size, self.filter_size))\n",
        "    else:\n",
        "      self.filters.append(filter)\n",
        "\n",
        "    #Doing Convolution Operation\n",
        "    conv_return = []\n",
        "    for i in range(len(self.filters)):\n",
        "      row_image = []\n",
        "      currentFilter = self.filters[i]\n",
        "      filter_pos = [0,0]\n",
        "      while(True):\n",
        "        if(filter_pos[0] + self.filter_size > image.shape[1]):\n",
        "          break\n",
        "        col_image = []\n",
        "        while(True):\n",
        "          if(filter_pos[1] + self.filter_size > image.shape[2]):\n",
        "            break\n",
        "          curr_image_part = image[:, filter_pos[0]:(filter_pos[0]+self.filter_size), filter_pos[1]:(filter_pos[1]+self.filter_size)]\n",
        "          col_image.append(np.sum(np.multiply(currentFilter,curr_image_part)))\n",
        "          filter_pos = [filter_pos[0], filter_pos[1]+self.stride]\n",
        "        filter_pos = [filter_pos[0] + self.stride, 0]\n",
        "        row_image.append(col_image)\n",
        "      conv_return.append(row_image)\n",
        "    \n",
        "    return np.array(conv_return)"
      ],
      "metadata": {
        "id": "CKYnKsD1qYxM"
      },
      "execution_count": 26,
      "outputs": []
    },
    {
      "cell_type": "code",
      "source": [
        "obj = CNN(filter_size=2, n_filters=7, stride=2, padding=0, filter_passed_flag = False)\n",
        "image = np.random.rand(1,5,5)\n",
        "return_image = obj.forward(image)\n",
        "print(return_image.shape)"
      ],
      "metadata": {
        "colab": {
          "base_uri": "https://localhost:8080/"
        },
        "id": "tITE5p-ixVyP",
        "outputId": "95d2b11f-3409-4930-c7a0-09d1cf253b04"
      },
      "execution_count": 27,
      "outputs": [
        {
          "output_type": "stream",
          "name": "stdout",
          "text": [
            "(1, 5, 5)\n",
            "(7, 2, 2)\n"
          ]
        }
      ]
    },
    {
      "cell_type": "code",
      "source": [
        "obj = CNN(filter_size=3, n_filters=1, stride=1, padding=2, filter_passed_flag = True)\n",
        "inputImage = np.array([[[3,0,1,2,7,4],[1,5,8,9,3,1],[2,7,2,5,1,3],[0,1,3,1,7,8],[4,2,1,6,2,8],[2,4,5,2,3,9]],\n",
        "                       [[3,0,1,2,7,4],[1,5,8,9,3,1],[2,7,2,5,1,3],[0,1,3,1,7,8],[4,2,1,6,2,8],[2,4,5,2,3,9]],\n",
        "                       [[3,0,1,2,7,4],[1,5,8,9,3,1],[2,7,2,5,1,3],[0,1,3,1,7,8],[4,2,1,6,2,8],[2,4,5,2,3,9]]])\n",
        "filter = np.array([[[1,0,-1],[1,0,-1],[1,0,-1]],\n",
        "                   [[1,0,-1],[1,0,-1],[1,0,-1]],\n",
        "                   [[1,0,-1],[1,0,-1],[1,0,-1]]])\n",
        "\n",
        "print(inputImage.shape)\n",
        "# print(filter.shape)\n",
        "return_image = obj.forward(inputImage, filter)\n",
        "print(return_image)\n"
      ],
      "metadata": {
        "colab": {
          "base_uri": "https://localhost:8080/"
        },
        "id": "QDlempKRz4XD",
        "outputId": "51c513ca-32b5-42ec-b80d-133f12e7beec"
      },
      "execution_count": 28,
      "outputs": [
        {
          "output_type": "stream",
          "name": "stdout",
          "text": [
            "(3, 6, 6)\n",
            "(3, 10, 10)\n",
            "[[[ -9   0   6  -6 -18  -6  21  12]\n",
            "  [-12 -15 -15 -18  -3  18  30  15]\n",
            "  [-18 -36 -15 -12   0  24  33  24]\n",
            "  [ -9 -39 -30  -6   6   9  33  36]\n",
            "  [-18 -30   0  -6 -12 -21  30  57]\n",
            "  [-18 -21  -9  -6  -9 -48  36  75]\n",
            "  [-18 -18   0  -6   3 -27  15  51]\n",
            "  [ -6 -12  -9   6   6 -21   9  27]]]\n"
          ]
        }
      ]
    }
  ]
}