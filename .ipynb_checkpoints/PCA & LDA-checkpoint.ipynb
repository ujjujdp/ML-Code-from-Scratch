{
 "cells": [
  {
   "cell_type": "code",
   "execution_count": 1,
   "id": "3f1f9a2b",
   "metadata": {},
   "outputs": [],
   "source": [
    "#importing necessary packaages\n",
    "import numpy as np\n",
    "import PIL\n",
    "from PIL import Image\n",
    "import os\n",
    "import ntpath\n",
    "import math\n",
    "import matplotlib.pyplot as plt"
   ]
  },
  {
   "cell_type": "markdown",
   "id": "10cbe9b4",
   "metadata": {},
   "source": [
    "# Loading Training Data"
   ]
  },
  {
   "cell_type": "code",
   "execution_count": 2,
   "id": "1051cdec",
   "metadata": {},
   "outputs": [],
   "source": [
    "#Placing the input images into numpy array\n",
    "all_data = []       \n",
    "happy_data = []\n",
    "sad_data = []\n",
    "N = 0\n",
    "trainPath = r\"C:\\Users\\ujjaw\\Desktop\\ML- Code from Scratch\\Data\\emotion_classification\\train\"\n",
    "for filename in os.scandir(trainPath):\n",
    "    if filename.is_file():\n",
    "        filename2 = trainPath + \"\\\\\" + ntpath.basename(filename)\n",
    "        img = Image.open(filename2).resize((100,100))\n",
    "        np_img = np.array(img)\n",
    "        flat_array = np.transpose(np.ravel(np_img))\n",
    "        x = ntpath.basename(filename).split(\".\")\n",
    "        if x[1] == \"happy\":\n",
    "            happy_data.append(list(flat_array))\n",
    "        else:\n",
    "            sad_data.append(list(flat_array))\n",
    "        N += 1\n",
    "happy_data = np.transpose(np.array(happy_data))\n",
    "sad_data = np.transpose(np.array(sad_data))\n",
    "all_data = np.concatenate((happy_data,sad_data),axis = 1)\n",
    "\n",
    "# print(all_data.shape)\n",
    "# print(happy_data.shape)\n",
    "# print(sad_data.shape)"
   ]
  },
  {
   "cell_type": "markdown",
   "id": "bf9ac2c2",
   "metadata": {},
   "source": [
    "#  Standardizing the Train Data"
   ]
  },
  {
   "cell_type": "code",
   "execution_count": null,
   "id": "33a9a8e6",
   "metadata": {},
   "outputs": [],
   "source": [
    "#Finding the mean of train data\n",
    "mean_array = all_data.mean(axis=1)\n",
    "mean_array = np.reshape(mean_array,(10000,1))\n",
    "\n",
    "X = all_data - mean_array\n",
    "Sx = np.matmul(np.transpose(X),X)\n",
    "Sx = np.multiply(Sx,1/N)"
   ]
  },
  {
   "cell_type": "markdown",
   "id": "20ef56ca",
   "metadata": {},
   "source": [
    "# Eigen decomposition of Sx(Covariance Matrix)"
   ]
  },
  {
   "cell_type": "code",
   "execution_count": 5,
   "id": "37589750",
   "metadata": {},
   "outputs": [],
   "source": [
    "#Finding the eigen values and eigen vector of Sx\n",
    "e_val, e_vec = np.linalg.eig(Sx)\n",
    "\n",
    "#Sorting Eigen Values and Corresponding Eigen Vectors\n",
    "idx = e_val.argsort()[::-1]   \n",
    "e_val = e_val[idx]\n",
    "e_vec = e_vec[:,idx]\n"
   ]
  },
  {
   "cell_type": "code",
   "execution_count": 21,
   "id": "d6719d1b",
   "metadata": {},
   "outputs": [],
   "source": [
    "#Converting Vi to Ui for the first k eigen vector\n",
    "k = 16\n",
    "V = e_vec[:,:k]      #Taking first k EVector\n",
    "V = np.transpose(V)\n",
    "U = []\n",
    "for i in range(k):\n",
    "    temp = np.matmul(all_data, V[i])\n",
    "    U.append(np.multiply(temp,1/math.sqrt(e_val[i]*20)))\n",
    "    \n",
    "U = np.transpose(np.array(U))"
   ]
  },
  {
   "cell_type": "markdown",
   "id": "41c4c6ab",
   "metadata": {},
   "source": [
    "# Reducing Dimension of Train Data using Projection Matrix U"
   ]
  },
  {
   "cell_type": "code",
   "execution_count": 7,
   "id": "a14cc2f7",
   "metadata": {},
   "outputs": [],
   "source": [
    "#Reducing the dimensions\n",
    "reduced_all_data = np.matmul(np.transpose(U), all_data)\n",
    "# print(reduced_all_data.shape)\n",
    "reduced_happy_data = np.matmul(np.transpose(U), happy_data)\n",
    "# print(reduced_happy_data.shape)\n",
    "reduced_sad_data = np.matmul(np.transpose(U), sad_data)\n",
    "# print(reduced_sad_data.shape)"
   ]
  },
  {
   "cell_type": "markdown",
   "id": "038d3449",
   "metadata": {},
   "source": [
    "# LDA on Train Data"
   ]
  },
  {
   "cell_type": "code",
   "execution_count": 8,
   "id": "31ba51d4",
   "metadata": {},
   "outputs": [],
   "source": [
    "#Finding mean of different data classes\n",
    "mean_sad = reduced_sad_data.mean(axis=1)\n",
    "mean_happy = reduced_happy_data.mean(axis=1) "
   ]
  },
  {
   "cell_type": "code",
   "execution_count": 9,
   "id": "8d02bcd7",
   "metadata": {},
   "outputs": [],
   "source": [
    "#Finding mean_diff and Sb\n",
    "mean_diff = mean_sad-mean_happy\n",
    "Sb = np.matmul(mean_diff.reshape(k,1),mean_diff.reshape(1,k))"
   ]
  },
  {
   "cell_type": "code",
   "execution_count": 10,
   "id": "159d5222",
   "metadata": {},
   "outputs": [],
   "source": [
    "#Calculating Sw\n",
    "mean_happy = np.reshape(mean_happy,(k,1))\n",
    "mean_sad = np.reshape(mean_sad,(k,1))\n",
    "\n",
    "r1,c1 = reduced_happy_data.shape\n",
    "r2,c2 = reduced_sad_data.shape\n",
    "Sw_term1 = np.matmul((reduced_happy_data - mean_happy), np.transpose(reduced_happy_data - mean_happy))\n",
    "Sw_term2 = np.matmul((reduced_sad_data - mean_sad),  np.transpose(reduced_sad_data - mean_sad))\n",
    "Sw = np.multiply(Sw_term1,1/c1) + np.multiply(Sw_term2,1/c2)"
   ]
  },
  {
   "cell_type": "code",
   "execution_count": 11,
   "id": "c1ab1823",
   "metadata": {},
   "outputs": [],
   "source": [
    "Sw_inverse = np.linalg.inv(Sw) "
   ]
  },
  {
   "cell_type": "code",
   "execution_count": 12,
   "id": "d4bfcb7e",
   "metadata": {},
   "outputs": [],
   "source": [
    "lda_e_val, lda_e_vec = np.linalg.eig(np.matmul(Sw_inverse,Sb))\n",
    "# print(lda_e_val)\n",
    "\n",
    "#Sorting Eigen Values and Corresponding Eigen Vectors\n",
    "idx = lda_e_val.argsort()[::-1]   \n",
    "lda_e_val = lda_e_val[idx]\n",
    "lda_e_vec = lda_e_vec[:,idx]\n",
    "\n",
    "required_e_vec = lda_e_vec[:,0].real\n",
    "\n",
    "required_e_vec = np.reshape(required_e_vec,(k,1))\n",
    "\n",
    "final_lda_projection_happy = np.matmul(np.transpose(required_e_vec), reduced_happy_data)\n",
    "final_lda_projection_sad = np.matmul(np.transpose(required_e_vec), reduced_sad_data)\n",
    "# print(final_lda_projection_happy)\n",
    "# print(final_lda_projection_sad)"
   ]
  },
  {
   "cell_type": "code",
   "execution_count": 13,
   "id": "4aecf5b3",
   "metadata": {},
   "outputs": [
    {
     "data": {
      "image/png": "[encoded data removed]",
      "text/plain": [
       "<Figure size 432x288 with 1 Axes>"
      ]
     },
     "metadata": {
      "needs_background": "light"
     },
     "output_type": "display_data"
    }
   ],
   "source": [
    "plt.scatter(final_lda_projection_happy ,np.zeros((c1,), dtype = int),color = 'b') \n",
    "plt.scatter(final_lda_projection_sad ,np.zeros((c2,),dtype = int), color = 'r') \n",
    "\n",
    "plt.show()"
   ]
  },
  {
   "cell_type": "markdown",
   "id": "ba8a223f",
   "metadata": {},
   "source": [
    "# Applying Dimensionality Reduction and Testing Test Data"
   ]
  },
  {
   "cell_type": "code",
   "execution_count": 14,
   "id": "e32d59c3",
   "metadata": {},
   "outputs": [],
   "source": [
    "happy_data_test = []\n",
    "happy_data_test_filename = []\n",
    "sad_data_test = []\n",
    "sad_data_test_filename = []\n",
    "N_test = 0\n",
    "testPath = r\"C:\\Users\\ujjaw\\Desktop\\ML- Code from Scratch\\Data\\emotion_classification\\test\"\n",
    "for filename in os.scandir(testPath):\n",
    "    if filename.is_file():\n",
    "        filename2 = testPath + \"\\\\\" + ntpath.basename(filename)\n",
    "        img = Image.open(filename2).resize((100,100))\n",
    "        np_img = np.array(img)/1\n",
    "        flat_array = np.transpose(np.ravel(np_img))\n",
    "        x = ntpath.basename(filename).split(\".\")\n",
    "        if x[1] == \"happy\":\n",
    "            happy_data_test.append(list(flat_array))\n",
    "            happy_data_test_filename.append(ntpath.basename(filename))\n",
    "        else:\n",
    "            sad_data_test.append(list(flat_array))\n",
    "            sad_data_test_filename.append(ntpath.basename(filename))\n",
    "            \n",
    "        N_test += 1\n",
    "happy_data_test = np.transpose(np.array(happy_data_test))\n",
    "sad_data_test = np.transpose(np.array(sad_data_test))"
   ]
  },
  {
   "cell_type": "code",
   "execution_count": 15,
   "id": "a35014c9",
   "metadata": {},
   "outputs": [],
   "source": [
    "# print(happy_data_test.shape)\n",
    "# print(sad_data_test.shape)\n",
    "r1, c1 = happy_data_test.shape\n",
    "r2, c2 = sad_data_test.shape"
   ]
  },
  {
   "cell_type": "code",
   "execution_count": 16,
   "id": "d4dbc022",
   "metadata": {},
   "outputs": [],
   "source": [
    "reduced_happy_data_test = np.matmul(np.transpose(U), happy_data_test)\n",
    "# print(reduced_happy_data_test.shape)\n",
    "reduced_sad_data_test = np.matmul(np.transpose(U), sad_data_test)\n",
    "# print(reduced_sad_data_test.shape)"
   ]
  },
  {
   "cell_type": "code",
   "execution_count": 17,
   "id": "2369d4ff",
   "metadata": {},
   "outputs": [],
   "source": [
    "final_lda_projection_happy_test = np.matmul(np.transpose(required_e_vec), reduced_happy_data_test)\n",
    "final_lda_projection_sad_test = np.matmul(np.transpose(required_e_vec), reduced_sad_data_test)\n",
    "# print(final_lda_projection_happy_test)\n",
    "# print(final_lda_projection_sad_test)"
   ]
  },
  {
   "cell_type": "code",
   "execution_count": 18,
   "id": "ae09aa87",
   "metadata": {},
   "outputs": [
    {
     "data": {
      "image/png": "[encoded data removed]",
      "text/plain": [
       "<Figure size 432x288 with 1 Axes>"
      ]
     },
     "metadata": {
      "needs_background": "light"
     },
     "output_type": "display_data"
    }
   ],
   "source": [
    "plt.scatter(final_lda_projection_happy_test ,np.zeros((c1,), dtype = int),color = 'b') \n",
    "plt.scatter(final_lda_projection_sad_test ,np.zeros((c2,),dtype = int), color = 'r') \n",
    "\n",
    "plt.show()"
   ]
  },
  {
   "cell_type": "code",
   "execution_count": 19,
   "id": "8e4c885a",
   "metadata": {},
   "outputs": [
    {
     "name": "stdout",
     "output_type": "stream",
     "text": [
      "subject03.happy.gif -> happy\n",
      "subject05.happy.gif -> happy\n",
      "subject08.happy.gif -> happy\n",
      "subject11.happy.gif -> happy\n",
      "subject14.happy.gif -> happy\n",
      "subject15.happy.gif -> happy\n",
      "subject01.sad.gif -> sad\n",
      "subject08.sad.gif -> sad\n",
      "subject14.sad.gif -> sad\n",
      "subject15.sad.gif -> sad\n",
      "Accuracy = 100.0 %\n"
     ]
    }
   ],
   "source": [
    "total = N_test\n",
    "correct = 0 \n",
    "for i in range(c1):\n",
    "    if (final_lda_projection_happy_test[0][i]<-550):\n",
    "        print(happy_data_test_filename[i],\"->\",\"happy\")\n",
    "        correct += 1\n",
    "    else:\n",
    "        print(happy_data_test_filename[i],\"->\",\"sad\")\n",
    "for i in range(c2):\n",
    "    if (final_lda_projection_sad_test[0][i]<-550):\n",
    "        print(sad_data_test_filename[i],\"->\",\"happy\")\n",
    "    else:\n",
    "        print(sad_data_test_filename[i],\"->\",\"sad\")\n",
    "        correct += 1\n",
    "\n",
    "print (\"Accuracy =\", correct/total * 100,\"%\")\n",
    "    "
   ]
  },
  {
   "cell_type": "markdown",
   "id": "0e70419b",
   "metadata": {},
   "source": [
    "I have tested the accuracy for different values of k. Accuracy of 100% is observed for k>=16. For k <= 15, the two classes are not completely seperated after projecting in one dimensional LDA."
   ]
  }
 ],
 "metadata": {
  "kernelspec": {
   "display_name": "Python 3 (ipykernel)",
   "language": "python",
   "name": "python3"
  },
  "language_info": {
   "codemirror_mode": {
    "name": "ipython",
    "version": 3
   },
   "file_extension": ".py",
   "mimetype": "text/x-python",
   "name": "python",
   "nbconvert_exporter": "python",
   "pygments_lexer": "ipython3",
   "version": "3.9.7"
  }
 },
 "nbformat": 4,
 "nbformat_minor": 5
}
