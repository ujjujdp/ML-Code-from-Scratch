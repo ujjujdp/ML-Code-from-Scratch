{
 "cells": [
  {
   "cell_type": "code",
   "execution_count": 1,
   "id": "b7b13b46",
   "metadata": {},
   "outputs": [
    {
     "ename": "AttributeError",
     "evalue": "module 'types' has no attribute 'UnionType'",
     "output_type": "error",
     "traceback": [
      "\u001b[1;31m---------------------------------------------------------------------------\u001b[0m",
      "\u001b[1;31mAttributeError\u001b[0m                            Traceback (most recent call last)",
      "Input \u001b[1;32mIn [1]\u001b[0m, in \u001b[0;36m<module>\u001b[1;34m\u001b[0m\n\u001b[0;32m      2\u001b[0m \u001b[38;5;28;01mimport\u001b[39;00m \u001b[38;5;21;01mmath\u001b[39;00m\n\u001b[0;32m      3\u001b[0m \u001b[38;5;28;01mimport\u001b[39;00m \u001b[38;5;21;01mnumpy\u001b[39;00m \u001b[38;5;28;01mas\u001b[39;00m \u001b[38;5;21;01mnp\u001b[39;00m\n\u001b[1;32m----> 4\u001b[0m \u001b[38;5;28;01mfrom\u001b[39;00m \u001b[38;5;21;01msklearn\u001b[39;00m \u001b[38;5;28;01mimport\u001b[39;00m datasets\n\u001b[0;32m      5\u001b[0m \u001b[38;5;28;01mimport\u001b[39;00m \u001b[38;5;21;01mstatistics\u001b[39;00m\n\u001b[0;32m      6\u001b[0m \u001b[38;5;28;01mfrom\u001b[39;00m \u001b[38;5;21;01mstatistics\u001b[39;00m \u001b[38;5;28;01mimport\u001b[39;00m mode\n",
      "File \u001b[1;32m~\\AppData\\Local\\Programs\\Python\\Python310\\lib\\site-packages\\sklearn\\__init__.py:82\u001b[0m, in \u001b[0;36m<module>\u001b[1;34m\u001b[0m\n\u001b[0;32m     80\u001b[0m \u001b[38;5;28;01mfrom\u001b[39;00m \u001b[38;5;21;01m.\u001b[39;00m \u001b[38;5;28;01mimport\u001b[39;00m _distributor_init  \u001b[38;5;66;03m# noqa: F401\u001b[39;00m\n\u001b[0;32m     81\u001b[0m \u001b[38;5;28;01mfrom\u001b[39;00m \u001b[38;5;21;01m.\u001b[39;00m \u001b[38;5;28;01mimport\u001b[39;00m __check_build  \u001b[38;5;66;03m# noqa: F401\u001b[39;00m\n\u001b[1;32m---> 82\u001b[0m \u001b[38;5;28;01mfrom\u001b[39;00m \u001b[38;5;21;01m.\u001b[39;00m\u001b[38;5;21;01mbase\u001b[39;00m \u001b[38;5;28;01mimport\u001b[39;00m clone\n\u001b[0;32m     83\u001b[0m \u001b[38;5;28;01mfrom\u001b[39;00m \u001b[38;5;21;01m.\u001b[39;00m\u001b[38;5;21;01mutils\u001b[39;00m\u001b[38;5;21;01m.\u001b[39;00m\u001b[38;5;21;01m_show_versions\u001b[39;00m \u001b[38;5;28;01mimport\u001b[39;00m show_versions\n\u001b[0;32m     85\u001b[0m __all__ \u001b[38;5;241m=\u001b[39m [\n\u001b[0;32m     86\u001b[0m     \u001b[38;5;124m\"\u001b[39m\u001b[38;5;124mcalibration\u001b[39m\u001b[38;5;124m\"\u001b[39m,\n\u001b[0;32m     87\u001b[0m     \u001b[38;5;124m\"\u001b[39m\u001b[38;5;124mcluster\u001b[39m\u001b[38;5;124m\"\u001b[39m,\n\u001b[1;32m   (...)\u001b[0m\n\u001b[0;32m    128\u001b[0m     \u001b[38;5;124m\"\u001b[39m\u001b[38;5;124mshow_versions\u001b[39m\u001b[38;5;124m\"\u001b[39m,\n\u001b[0;32m    129\u001b[0m ]\n",
      "File \u001b[1;32m~\\AppData\\Local\\Programs\\Python\\Python310\\lib\\site-packages\\sklearn\\base.py:17\u001b[0m, in \u001b[0;36m<module>\u001b[1;34m\u001b[0m\n\u001b[0;32m     15\u001b[0m \u001b[38;5;28;01mfrom\u001b[39;00m \u001b[38;5;21;01m.\u001b[39;00m \u001b[38;5;28;01mimport\u001b[39;00m __version__\n\u001b[0;32m     16\u001b[0m \u001b[38;5;28;01mfrom\u001b[39;00m \u001b[38;5;21;01m.\u001b[39;00m\u001b[38;5;21;01m_config\u001b[39;00m \u001b[38;5;28;01mimport\u001b[39;00m get_config\n\u001b[1;32m---> 17\u001b[0m \u001b[38;5;28;01mfrom\u001b[39;00m \u001b[38;5;21;01m.\u001b[39;00m\u001b[38;5;21;01mutils\u001b[39;00m \u001b[38;5;28;01mimport\u001b[39;00m _IS_32BIT\n\u001b[0;32m     18\u001b[0m \u001b[38;5;28;01mfrom\u001b[39;00m \u001b[38;5;21;01m.\u001b[39;00m\u001b[38;5;21;01mutils\u001b[39;00m\u001b[38;5;21;01m.\u001b[39;00m\u001b[38;5;21;01m_tags\u001b[39;00m \u001b[38;5;28;01mimport\u001b[39;00m (\n\u001b[0;32m     19\u001b[0m     _DEFAULT_TAGS,\n\u001b[0;32m     20\u001b[0m     _safe_tags,\n\u001b[0;32m     21\u001b[0m )\n\u001b[0;32m     22\u001b[0m \u001b[38;5;28;01mfrom\u001b[39;00m \u001b[38;5;21;01m.\u001b[39;00m\u001b[38;5;21;01mutils\u001b[39;00m\u001b[38;5;21;01m.\u001b[39;00m\u001b[38;5;21;01mvalidation\u001b[39;00m \u001b[38;5;28;01mimport\u001b[39;00m check_X_y\n",
      "File \u001b[1;32m~\\AppData\\Local\\Programs\\Python\\Python310\\lib\\site-packages\\sklearn\\utils\\__init__.py:28\u001b[0m, in \u001b[0;36m<module>\u001b[1;34m\u001b[0m\n\u001b[0;32m     26\u001b[0m \u001b[38;5;28;01mfrom\u001b[39;00m \u001b[38;5;21;01m.\u001b[39;00m\u001b[38;5;21;01m.\u001b[39;00m\u001b[38;5;21;01mexceptions\u001b[39;00m \u001b[38;5;28;01mimport\u001b[39;00m DataConversionWarning\n\u001b[0;32m     27\u001b[0m \u001b[38;5;28;01mfrom\u001b[39;00m \u001b[38;5;21;01m.\u001b[39;00m\u001b[38;5;21;01mdeprecation\u001b[39;00m \u001b[38;5;28;01mimport\u001b[39;00m deprecated\n\u001b[1;32m---> 28\u001b[0m \u001b[38;5;28;01mfrom\u001b[39;00m \u001b[38;5;21;01m.\u001b[39;00m\u001b[38;5;21;01mfixes\u001b[39;00m \u001b[38;5;28;01mimport\u001b[39;00m np_version, parse_version\n\u001b[0;32m     29\u001b[0m \u001b[38;5;28;01mfrom\u001b[39;00m \u001b[38;5;21;01m.\u001b[39;00m\u001b[38;5;21;01m_estimator_html_repr\u001b[39;00m \u001b[38;5;28;01mimport\u001b[39;00m estimator_html_repr\n\u001b[0;32m     30\u001b[0m \u001b[38;5;28;01mfrom\u001b[39;00m \u001b[38;5;21;01m.\u001b[39;00m\u001b[38;5;21;01mvalidation\u001b[39;00m \u001b[38;5;28;01mimport\u001b[39;00m (\n\u001b[0;32m     31\u001b[0m     as_float_array,\n\u001b[0;32m     32\u001b[0m     assert_all_finite,\n\u001b[1;32m   (...)\u001b[0m\n\u001b[0;32m     40\u001b[0m     check_scalar,\n\u001b[0;32m     41\u001b[0m )\n",
      "File \u001b[1;32m~\\AppData\\Local\\Programs\\Python\\Python310\\lib\\site-packages\\sklearn\\utils\\fixes.py:20\u001b[0m, in \u001b[0;36m<module>\u001b[1;34m\u001b[0m\n\u001b[0;32m     18\u001b[0m \u001b[38;5;28;01mimport\u001b[39;00m \u001b[38;5;21;01mscipy\u001b[39;00m\u001b[38;5;21;01m.\u001b[39;00m\u001b[38;5;21;01msparse\u001b[39;00m \u001b[38;5;28;01mas\u001b[39;00m \u001b[38;5;21;01msp\u001b[39;00m\n\u001b[0;32m     19\u001b[0m \u001b[38;5;28;01mimport\u001b[39;00m \u001b[38;5;21;01mscipy\u001b[39;00m\n\u001b[1;32m---> 20\u001b[0m \u001b[38;5;28;01mimport\u001b[39;00m \u001b[38;5;21;01mscipy\u001b[39;00m\u001b[38;5;21;01m.\u001b[39;00m\u001b[38;5;21;01mstats\u001b[39;00m\n\u001b[0;32m     21\u001b[0m \u001b[38;5;28;01mfrom\u001b[39;00m \u001b[38;5;21;01mscipy\u001b[39;00m\u001b[38;5;21;01m.\u001b[39;00m\u001b[38;5;21;01msparse\u001b[39;00m\u001b[38;5;21;01m.\u001b[39;00m\u001b[38;5;21;01mlinalg\u001b[39;00m \u001b[38;5;28;01mimport\u001b[39;00m lsqr \u001b[38;5;28;01mas\u001b[39;00m sparse_lsqr  \u001b[38;5;66;03m# noqa\u001b[39;00m\n\u001b[0;32m     22\u001b[0m \u001b[38;5;28;01mimport\u001b[39;00m \u001b[38;5;21;01mthreadpoolctl\u001b[39;00m\n",
      "File \u001b[1;32m~\\AppData\\Local\\Programs\\Python\\Python310\\lib\\site-packages\\scipy\\stats\\__init__.py:441\u001b[0m, in \u001b[0;36m<module>\u001b[1;34m\u001b[0m\n\u001b[0;32m      1\u001b[0m \u001b[38;5;124;03m\"\"\"\u001b[39;00m\n\u001b[0;32m      2\u001b[0m \u001b[38;5;124;03m.. _statsrefmanual:\u001b[39;00m\n\u001b[0;32m      3\u001b[0m \n\u001b[1;32m   (...)\u001b[0m\n\u001b[0;32m    438\u001b[0m \n\u001b[0;32m    439\u001b[0m \u001b[38;5;124;03m\"\"\"\u001b[39;00m\n\u001b[1;32m--> 441\u001b[0m \u001b[38;5;28;01mfrom\u001b[39;00m \u001b[38;5;21;01m.\u001b[39;00m\u001b[38;5;21;01mstats\u001b[39;00m \u001b[38;5;28;01mimport\u001b[39;00m \u001b[38;5;241m*\u001b[39m\n\u001b[0;32m    442\u001b[0m \u001b[38;5;28;01mfrom\u001b[39;00m \u001b[38;5;21;01m.\u001b[39;00m\u001b[38;5;21;01mdistributions\u001b[39;00m \u001b[38;5;28;01mimport\u001b[39;00m \u001b[38;5;241m*\u001b[39m\n\u001b[0;32m    443\u001b[0m \u001b[38;5;28;01mfrom\u001b[39;00m \u001b[38;5;21;01m.\u001b[39;00m\u001b[38;5;21;01mmorestats\u001b[39;00m \u001b[38;5;28;01mimport\u001b[39;00m \u001b[38;5;241m*\u001b[39m\n",
      "File \u001b[1;32m~\\AppData\\Local\\Programs\\Python\\Python310\\lib\\site-packages\\scipy\\stats\\stats.py:37\u001b[0m, in \u001b[0;36m<module>\u001b[1;34m\u001b[0m\n\u001b[0;32m     34\u001b[0m \u001b[38;5;28;01mimport\u001b[39;00m \u001b[38;5;21;01mnumpy\u001b[39;00m \u001b[38;5;28;01mas\u001b[39;00m \u001b[38;5;21;01mnp\u001b[39;00m\n\u001b[0;32m     35\u001b[0m \u001b[38;5;28;01mfrom\u001b[39;00m \u001b[38;5;21;01mnumpy\u001b[39;00m \u001b[38;5;28;01mimport\u001b[39;00m array, asarray, ma\n\u001b[1;32m---> 37\u001b[0m \u001b[38;5;28;01mfrom\u001b[39;00m \u001b[38;5;21;01mscipy\u001b[39;00m\u001b[38;5;21;01m.\u001b[39;00m\u001b[38;5;21;01mspatial\u001b[39;00m\u001b[38;5;21;01m.\u001b[39;00m\u001b[38;5;21;01mdistance\u001b[39;00m \u001b[38;5;28;01mimport\u001b[39;00m cdist\n\u001b[0;32m     38\u001b[0m \u001b[38;5;28;01mfrom\u001b[39;00m \u001b[38;5;21;01mscipy\u001b[39;00m\u001b[38;5;21;01m.\u001b[39;00m\u001b[38;5;21;01mndimage\u001b[39;00m \u001b[38;5;28;01mimport\u001b[39;00m measurements\n\u001b[0;32m     39\u001b[0m \u001b[38;5;28;01mfrom\u001b[39;00m \u001b[38;5;21;01mscipy\u001b[39;00m\u001b[38;5;21;01m.\u001b[39;00m\u001b[38;5;21;01m_lib\u001b[39;00m\u001b[38;5;21;01m.\u001b[39;00m\u001b[38;5;21;01m_util\u001b[39;00m \u001b[38;5;28;01mimport\u001b[39;00m (check_random_state, MapWrapper,\n\u001b[0;32m     40\u001b[0m                               rng_integers, float_factorial)\n",
      "File \u001b[1;32m~\\AppData\\Local\\Programs\\Python\\Python310\\lib\\site-packages\\scipy\\spatial\\__init__.py:102\u001b[0m, in \u001b[0;36m<module>\u001b[1;34m\u001b[0m\n\u001b[0;32m    100\u001b[0m \u001b[38;5;28;01mfrom\u001b[39;00m \u001b[38;5;21;01m.\u001b[39;00m\u001b[38;5;21;01m_plotutils\u001b[39;00m \u001b[38;5;28;01mimport\u001b[39;00m \u001b[38;5;241m*\u001b[39m\n\u001b[0;32m    101\u001b[0m \u001b[38;5;28;01mfrom\u001b[39;00m \u001b[38;5;21;01m.\u001b[39;00m\u001b[38;5;21;01m_procrustes\u001b[39;00m \u001b[38;5;28;01mimport\u001b[39;00m procrustes\n\u001b[1;32m--> 102\u001b[0m \u001b[38;5;28;01mfrom\u001b[39;00m \u001b[38;5;21;01m.\u001b[39;00m\u001b[38;5;21;01m_geometric_slerp\u001b[39;00m \u001b[38;5;28;01mimport\u001b[39;00m geometric_slerp\n\u001b[0;32m    104\u001b[0m __all__ \u001b[38;5;241m=\u001b[39m [s \u001b[38;5;28;01mfor\u001b[39;00m s \u001b[38;5;129;01min\u001b[39;00m \u001b[38;5;28mdir\u001b[39m() \u001b[38;5;28;01mif\u001b[39;00m \u001b[38;5;129;01mnot\u001b[39;00m s\u001b[38;5;241m.\u001b[39mstartswith(\u001b[38;5;124m'\u001b[39m\u001b[38;5;124m_\u001b[39m\u001b[38;5;124m'\u001b[39m)]\n\u001b[0;32m    105\u001b[0m __all__ \u001b[38;5;241m+\u001b[39m\u001b[38;5;241m=\u001b[39m [\u001b[38;5;124m'\u001b[39m\u001b[38;5;124mdistance\u001b[39m\u001b[38;5;124m'\u001b[39m, \u001b[38;5;124m'\u001b[39m\u001b[38;5;124mtransform\u001b[39m\u001b[38;5;124m'\u001b[39m]\n",
      "File \u001b[1;32m~\\AppData\\Local\\Programs\\Python\\Python310\\lib\\site-packages\\scipy\\spatial\\_geometric_slerp.py:8\u001b[0m, in \u001b[0;36m<module>\u001b[1;34m\u001b[0m\n\u001b[0;32m      5\u001b[0m \u001b[38;5;28;01mimport\u001b[39;00m \u001b[38;5;21;01mwarnings\u001b[39;00m\n\u001b[0;32m      7\u001b[0m \u001b[38;5;28;01mimport\u001b[39;00m \u001b[38;5;21;01mnumpy\u001b[39;00m \u001b[38;5;28;01mas\u001b[39;00m \u001b[38;5;21;01mnp\u001b[39;00m\n\u001b[1;32m----> 8\u001b[0m \u001b[38;5;28;01mfrom\u001b[39;00m \u001b[38;5;21;01mscipy\u001b[39;00m\u001b[38;5;21;01m.\u001b[39;00m\u001b[38;5;21;01mspatial\u001b[39;00m\u001b[38;5;21;01m.\u001b[39;00m\u001b[38;5;21;01mdistance\u001b[39;00m \u001b[38;5;28;01mimport\u001b[39;00m euclidean\n\u001b[0;32m     11\u001b[0m \u001b[38;5;28;01mdef\u001b[39;00m \u001b[38;5;21m_geometric_slerp\u001b[39m(start, end, t):\n\u001b[0;32m     12\u001b[0m     \u001b[38;5;66;03m# create an orthogonal basis using QR decomposition\u001b[39;00m\n\u001b[0;32m     13\u001b[0m     basis \u001b[38;5;241m=\u001b[39m np\u001b[38;5;241m.\u001b[39mvstack([start, end])\n",
      "File \u001b[1;32m~\\AppData\\Local\\Programs\\Python\\Python310\\lib\\site-packages\\scipy\\spatial\\distance.py:1753\u001b[0m, in \u001b[0;36m<module>\u001b[1;34m\u001b[0m\n\u001b[0;32m   1748\u001b[0m         pdist_fn(X, dm, \u001b[38;5;241m*\u001b[39m\u001b[38;5;241m*\u001b[39mkwargs)\n\u001b[0;32m   1749\u001b[0m         \u001b[38;5;28;01mreturn\u001b[39;00m dm\n\u001b[0;32m   1752\u001b[0m \u001b[38;5;129m@dataclasses\u001b[39m\u001b[38;5;241m.\u001b[39mdataclass(frozen\u001b[38;5;241m=\u001b[39m\u001b[38;5;28;01mTrue\u001b[39;00m)\n\u001b[1;32m-> 1753\u001b[0m \u001b[38;5;28;01mclass\u001b[39;00m \u001b[38;5;21;01mMetricInfo\u001b[39;00m:\n\u001b[0;32m   1754\u001b[0m     \u001b[38;5;66;03m# Name of python distance function\u001b[39;00m\n\u001b[0;32m   1755\u001b[0m     canonical_name: \u001b[38;5;28mstr\u001b[39m\n\u001b[0;32m   1756\u001b[0m     \u001b[38;5;66;03m# All aliases, including canonical_name\u001b[39;00m\n",
      "File \u001b[1;32m~\\AppData\\Local\\Programs\\Python\\Python310\\lib\\site-packages\\scipy\\spatial\\distance.py:1766\u001b[0m, in \u001b[0;36mMetricInfo\u001b[1;34m()\u001b[0m\n\u001b[0;32m   1763\u001b[0m pdist_func: Callable\n\u001b[0;32m   1764\u001b[0m \u001b[38;5;66;03m# function that checks kwargs and computes default values:\u001b[39;00m\n\u001b[0;32m   1765\u001b[0m \u001b[38;5;66;03m# f(X, m, n, **kwargs)\u001b[39;00m\n\u001b[1;32m-> 1766\u001b[0m validator: \u001b[43mOptional\u001b[49m\u001b[43m[\u001b[49m\u001b[43mCallable\u001b[49m\u001b[43m]\u001b[49m \u001b[38;5;241m=\u001b[39m \u001b[38;5;28;01mNone\u001b[39;00m\n\u001b[0;32m   1767\u001b[0m \u001b[38;5;66;03m# list of supported types:\u001b[39;00m\n\u001b[0;32m   1768\u001b[0m \u001b[38;5;66;03m# X (pdist) and XA (cdist) are used to choose the type. if there is no\u001b[39;00m\n\u001b[0;32m   1769\u001b[0m \u001b[38;5;66;03m# match the first type is used. Default double\u001b[39;00m\n\u001b[0;32m   1770\u001b[0m types: List[\u001b[38;5;28mstr\u001b[39m] \u001b[38;5;241m=\u001b[39m dataclasses\u001b[38;5;241m.\u001b[39mfield(default_factory\u001b[38;5;241m=\u001b[39m\u001b[38;5;28;01mlambda\u001b[39;00m: [\u001b[38;5;124m'\u001b[39m\u001b[38;5;124mdouble\u001b[39m\u001b[38;5;124m'\u001b[39m])\n",
      "File \u001b[1;32m~\\anaconda3\\Lib\\typing.py:272\u001b[0m, in \u001b[0;36m_tp_cache.<locals>.decorator.<locals>.inner\u001b[1;34m(*args, **kwds)\u001b[0m\n\u001b[0;32m    269\u001b[0m \u001b[38;5;129m@functools\u001b[39m\u001b[38;5;241m.\u001b[39mwraps(func)\n\u001b[0;32m    270\u001b[0m \u001b[38;5;28;01mdef\u001b[39;00m \u001b[38;5;21minner\u001b[39m(\u001b[38;5;241m*\u001b[39margs, \u001b[38;5;241m*\u001b[39m\u001b[38;5;241m*\u001b[39mkwds):\n\u001b[0;32m    271\u001b[0m     \u001b[38;5;28;01mtry\u001b[39;00m:\n\u001b[1;32m--> 272\u001b[0m         \u001b[38;5;28;01mreturn\u001b[39;00m cached(\u001b[38;5;241m*\u001b[39margs, \u001b[38;5;241m*\u001b[39m\u001b[38;5;241m*\u001b[39mkwds)\n\u001b[0;32m    273\u001b[0m     \u001b[38;5;28;01mexcept\u001b[39;00m \u001b[38;5;167;01mTypeError\u001b[39;00m:\n\u001b[0;32m    274\u001b[0m         \u001b[38;5;28;01mpass\u001b[39;00m  \u001b[38;5;66;03m# All real errors (not unhashable args) are raised below.\u001b[39;00m\n",
      "File \u001b[1;32m~\\anaconda3\\Lib\\typing.py:352\u001b[0m, in \u001b[0;36m_SpecialForm.__getitem__\u001b[1;34m(self, parameters)\u001b[0m\n\u001b[0;32m    350\u001b[0m \u001b[38;5;129m@_tp_cache\u001b[39m\n\u001b[0;32m    351\u001b[0m \u001b[38;5;28;01mdef\u001b[39;00m \u001b[38;5;21m__getitem__\u001b[39m(\u001b[38;5;28mself\u001b[39m, parameters):\n\u001b[1;32m--> 352\u001b[0m     \u001b[38;5;28;01mreturn\u001b[39;00m \u001b[38;5;28;43mself\u001b[39;49m\u001b[38;5;241;43m.\u001b[39;49m\u001b[43m_getitem\u001b[49m\u001b[43m(\u001b[49m\u001b[38;5;28;43mself\u001b[39;49m\u001b[43m,\u001b[49m\u001b[43m \u001b[49m\u001b[43mparameters\u001b[49m\u001b[43m)\u001b[49m\n",
      "File \u001b[1;32m~\\anaconda3\\Lib\\typing.py:476\u001b[0m, in \u001b[0;36mOptional\u001b[1;34m(self, parameters)\u001b[0m\n\u001b[0;32m    471\u001b[0m \u001b[38;5;124;03m\"\"\"Optional type.\u001b[39;00m\n\u001b[0;32m    472\u001b[0m \n\u001b[0;32m    473\u001b[0m \u001b[38;5;124;03mOptional[X] is equivalent to Union[X, None].\u001b[39;00m\n\u001b[0;32m    474\u001b[0m \u001b[38;5;124;03m\"\"\"\u001b[39;00m\n\u001b[0;32m    475\u001b[0m arg \u001b[38;5;241m=\u001b[39m _type_check(parameters, \u001b[38;5;124mf\u001b[39m\u001b[38;5;124m\"\u001b[39m\u001b[38;5;132;01m{\u001b[39;00m\u001b[38;5;28mself\u001b[39m\u001b[38;5;132;01m}\u001b[39;00m\u001b[38;5;124m requires a single type.\u001b[39m\u001b[38;5;124m\"\u001b[39m)\n\u001b[1;32m--> 476\u001b[0m \u001b[38;5;28;01mreturn\u001b[39;00m \u001b[43mUnion\u001b[49m\u001b[43m[\u001b[49m\u001b[43marg\u001b[49m\u001b[43m,\u001b[49m\u001b[43m \u001b[49m\u001b[38;5;28;43mtype\u001b[39;49m\u001b[43m(\u001b[49m\u001b[38;5;28;43;01mNone\u001b[39;49;00m\u001b[43m)\u001b[49m\u001b[43m]\u001b[49m\n",
      "File \u001b[1;32m~\\anaconda3\\Lib\\typing.py:272\u001b[0m, in \u001b[0;36m_tp_cache.<locals>.decorator.<locals>.inner\u001b[1;34m(*args, **kwds)\u001b[0m\n\u001b[0;32m    269\u001b[0m \u001b[38;5;129m@functools\u001b[39m\u001b[38;5;241m.\u001b[39mwraps(func)\n\u001b[0;32m    270\u001b[0m \u001b[38;5;28;01mdef\u001b[39;00m \u001b[38;5;21minner\u001b[39m(\u001b[38;5;241m*\u001b[39margs, \u001b[38;5;241m*\u001b[39m\u001b[38;5;241m*\u001b[39mkwds):\n\u001b[0;32m    271\u001b[0m     \u001b[38;5;28;01mtry\u001b[39;00m:\n\u001b[1;32m--> 272\u001b[0m         \u001b[38;5;28;01mreturn\u001b[39;00m cached(\u001b[38;5;241m*\u001b[39margs, \u001b[38;5;241m*\u001b[39m\u001b[38;5;241m*\u001b[39mkwds)\n\u001b[0;32m    273\u001b[0m     \u001b[38;5;28;01mexcept\u001b[39;00m \u001b[38;5;167;01mTypeError\u001b[39;00m:\n\u001b[0;32m    274\u001b[0m         \u001b[38;5;28;01mpass\u001b[39;00m  \u001b[38;5;66;03m# All real errors (not unhashable args) are raised below.\u001b[39;00m\n",
      "File \u001b[1;32m~\\anaconda3\\Lib\\typing.py:352\u001b[0m, in \u001b[0;36m_SpecialForm.__getitem__\u001b[1;34m(self, parameters)\u001b[0m\n\u001b[0;32m    350\u001b[0m \u001b[38;5;129m@_tp_cache\u001b[39m\n\u001b[0;32m    351\u001b[0m \u001b[38;5;28;01mdef\u001b[39;00m \u001b[38;5;21m__getitem__\u001b[39m(\u001b[38;5;28mself\u001b[39m, parameters):\n\u001b[1;32m--> 352\u001b[0m     \u001b[38;5;28;01mreturn\u001b[39;00m \u001b[38;5;28;43mself\u001b[39;49m\u001b[38;5;241;43m.\u001b[39;49m\u001b[43m_getitem\u001b[49m\u001b[43m(\u001b[49m\u001b[38;5;28;43mself\u001b[39;49m\u001b[43m,\u001b[49m\u001b[43m \u001b[49m\u001b[43mparameters\u001b[49m\u001b[43m)\u001b[49m\n",
      "File \u001b[1;32m~\\anaconda3\\Lib\\typing.py:467\u001b[0m, in \u001b[0;36mUnion\u001b[1;34m(self, parameters)\u001b[0m\n\u001b[0;32m    465\u001b[0m \u001b[38;5;28;01mif\u001b[39;00m \u001b[38;5;28mlen\u001b[39m(parameters) \u001b[38;5;241m==\u001b[39m \u001b[38;5;241m1\u001b[39m:\n\u001b[0;32m    466\u001b[0m     \u001b[38;5;28;01mreturn\u001b[39;00m parameters[\u001b[38;5;241m0\u001b[39m]\n\u001b[1;32m--> 467\u001b[0m \u001b[38;5;28;01mreturn\u001b[39;00m \u001b[43m_UnionGenericAlias\u001b[49m\u001b[43m(\u001b[49m\u001b[38;5;28;43mself\u001b[39;49m\u001b[43m,\u001b[49m\u001b[43m \u001b[49m\u001b[43mparameters\u001b[49m\u001b[43m)\u001b[49m\n",
      "File \u001b[1;32m~\\anaconda3\\Lib\\typing.py:741\u001b[0m, in \u001b[0;36m_GenericAlias.__init__\u001b[1;34m(self, origin, params, inst, name)\u001b[0m\n\u001b[0;32m    737\u001b[0m     params \u001b[38;5;241m=\u001b[39m (params,)\n\u001b[0;32m    738\u001b[0m \u001b[38;5;28mself\u001b[39m\u001b[38;5;241m.\u001b[39m__args__ \u001b[38;5;241m=\u001b[39m \u001b[38;5;28mtuple\u001b[39m(\u001b[38;5;241m.\u001b[39m\u001b[38;5;241m.\u001b[39m\u001b[38;5;241m.\u001b[39m \u001b[38;5;28;01mif\u001b[39;00m a \u001b[38;5;129;01mis\u001b[39;00m _TypingEllipsis \u001b[38;5;28;01melse\u001b[39;00m\n\u001b[0;32m    739\u001b[0m                       () \u001b[38;5;28;01mif\u001b[39;00m a \u001b[38;5;129;01mis\u001b[39;00m _TypingEmpty \u001b[38;5;28;01melse\u001b[39;00m\n\u001b[0;32m    740\u001b[0m                       a \u001b[38;5;28;01mfor\u001b[39;00m a \u001b[38;5;129;01min\u001b[39;00m params)\n\u001b[1;32m--> 741\u001b[0m \u001b[38;5;28mself\u001b[39m\u001b[38;5;241m.\u001b[39m__parameters__ \u001b[38;5;241m=\u001b[39m \u001b[43m_collect_type_vars\u001b[49m\u001b[43m(\u001b[49m\u001b[43mparams\u001b[49m\u001b[43m)\u001b[49m\n\u001b[0;32m    742\u001b[0m \u001b[38;5;28;01mif\u001b[39;00m \u001b[38;5;129;01mnot\u001b[39;00m name:\n\u001b[0;32m    743\u001b[0m     \u001b[38;5;28mself\u001b[39m\u001b[38;5;241m.\u001b[39m\u001b[38;5;18m__module__\u001b[39m \u001b[38;5;241m=\u001b[39m origin\u001b[38;5;241m.\u001b[39m\u001b[38;5;18m__module__\u001b[39m\n",
      "File \u001b[1;32m~\\AppData\\Local\\Programs\\Python\\Python310\\lib\\site-packages\\typing_extensions.py:146\u001b[0m, in \u001b[0;36m_collect_type_vars\u001b[1;34m(types, typevar_types)\u001b[0m\n\u001b[0;32m    140\u001b[0m     \u001b[38;5;28;01mif\u001b[39;00m (\n\u001b[0;32m    141\u001b[0m         \u001b[38;5;28misinstance\u001b[39m(t, typevar_types) \u001b[38;5;129;01mand\u001b[39;00m\n\u001b[0;32m    142\u001b[0m         t \u001b[38;5;129;01mnot\u001b[39;00m \u001b[38;5;129;01min\u001b[39;00m tvars \u001b[38;5;129;01mand\u001b[39;00m\n\u001b[0;32m    143\u001b[0m         \u001b[38;5;129;01mnot\u001b[39;00m _is_unpack(t)\n\u001b[0;32m    144\u001b[0m     ):\n\u001b[0;32m    145\u001b[0m         tvars\u001b[38;5;241m.\u001b[39mappend(t)\n\u001b[1;32m--> 146\u001b[0m     \u001b[38;5;28;01mif\u001b[39;00m \u001b[43m_should_collect_from_parameters\u001b[49m\u001b[43m(\u001b[49m\u001b[43mt\u001b[49m\u001b[43m)\u001b[49m:\n\u001b[0;32m    147\u001b[0m         tvars\u001b[38;5;241m.\u001b[39mextend([t \u001b[38;5;28;01mfor\u001b[39;00m t \u001b[38;5;129;01min\u001b[39;00m t\u001b[38;5;241m.\u001b[39m__parameters__ \u001b[38;5;28;01mif\u001b[39;00m t \u001b[38;5;129;01mnot\u001b[39;00m \u001b[38;5;129;01min\u001b[39;00m tvars])\n\u001b[0;32m    148\u001b[0m \u001b[38;5;28;01mreturn\u001b[39;00m \u001b[38;5;28mtuple\u001b[39m(tvars)\n",
      "File \u001b[1;32m~\\AppData\\Local\\Programs\\Python\\Python310\\lib\\site-packages\\typing_extensions.py:120\u001b[0m, in \u001b[0;36m_should_collect_from_parameters\u001b[1;34m(t)\u001b[0m\n\u001b[0;32m    118\u001b[0m \u001b[38;5;28;01mdef\u001b[39;00m \u001b[38;5;21m_should_collect_from_parameters\u001b[39m(t):\n\u001b[0;32m    119\u001b[0m     \u001b[38;5;28;01mreturn\u001b[39;00m \u001b[38;5;28misinstance\u001b[39m(\n\u001b[1;32m--> 120\u001b[0m         t, (typing\u001b[38;5;241m.\u001b[39m_GenericAlias, _types\u001b[38;5;241m.\u001b[39mGenericAlias, \u001b[43m_types\u001b[49m\u001b[38;5;241;43m.\u001b[39;49m\u001b[43mUnionType\u001b[49m)\n\u001b[0;32m    121\u001b[0m     )\n",
      "\u001b[1;31mAttributeError\u001b[0m: module 'types' has no attribute 'UnionType'"
     ]
    }
   ],
   "source": [
    "#Importing necessary libraries\n",
    "import math\n",
    "import numpy as np\n",
    "from sklearn import datasets\n",
    "import statistics\n",
    "from statistics import mode\n",
    "import matplotlib.pyplot as plt\n",
    "from sklearn.model_selection import train_test_split"
   ]
  },
  {
   "cell_type": "code",
   "execution_count": 60,
   "id": "ad271275",
   "metadata": {},
   "outputs": [],
   "source": [
    "# # Loading iris dataset\n",
    "# iris = datasets.load_iris()\n",
    "# tempX, tempY= iris.data, iris.target\n",
    "# m = tempX.shape[0]\n",
    "\n",
    "# tempY = tempY.reshape(150,1)\n",
    "# print(tempX.shape)\n",
    "# print(tempY.shape)"
   ]
  },
  {
   "cell_type": "code",
   "execution_count": 61,
   "id": "e436d6ed",
   "metadata": {},
   "outputs": [],
   "source": [
    "# # Random Shuffle\n",
    "# x_y = np.concatenate((tempX,tempY),axis = 1)\n",
    "# np.random.shuffle(x_y)\n",
    "# print(x_y.shape)\n",
    "\n",
    "# x = x_y[:,:4]\n",
    "# y = x_y[:,4]\n",
    "\n",
    "# print(x_y.shape)\n",
    "# print(x.shape)\n",
    "# print(y.shape)"
   ]
  },
  {
   "cell_type": "code",
   "execution_count": 62,
   "id": "c95a0f3b",
   "metadata": {},
   "outputs": [],
   "source": [
    "# # Splitting the dataset into train and test set\n",
    "\n",
    "# m_train = 120\n",
    "# m_test = m - m_train\n",
    "\n",
    "# print(m_train)\n",
    "# print(m_test)\n",
    "\n",
    "# trainData = x[:m_train,:]\n",
    "# testData = x[m_train:,:]\n",
    "\n",
    "# trainLabels = y[:m_train]\n",
    "# testLabels = y[m_train:]\n",
    "\n",
    "# print(trainData.shape)\n",
    "# print(testData.shape)\n",
    "# print(trainLabels.shape)\n",
    "# print(testLabels.shape)"
   ]
  },
  {
   "cell_type": "code",
   "execution_count": 63,
   "id": "5ebe1c27",
   "metadata": {},
   "outputs": [],
   "source": [
    "# Implementing KNN as a class\n",
    "class KNN:\n",
    "    def __init__(self,k=3,p=2):\n",
    "        self.k = k\n",
    "        self.p = p\n",
    "        \n",
    "    def fit(self,x,y):\n",
    "        self.trainData = x\n",
    "        self.trainLabels = y\n",
    "    \n",
    "    def predict(self,testData,testLabels):\n",
    "        predictedLables = [-1 for q in range(m_test)]\n",
    "        \n",
    "        #Testing for each test sample\n",
    "        for i in range(m_test):\n",
    "            \n",
    "#             distList = [0 for q in range(m_train)]\n",
    "#             for j in range(m_train):\n",
    "#                 #Finding Distance from each training sample\n",
    "#                 distList[j] = self.euclideanDist(testData[i], self.trainData[j])\n",
    "            \n",
    "            # LIST COMPREHENSION\n",
    "            distList = [self.dist(testData[i], self.trainData[j]) for j in range(m_train)]\n",
    "            \n",
    "            \n",
    "            tempTrainLabels = self.trainLabels\n",
    "            \n",
    "            distList = np.array(distList)\n",
    "            tempTrainLabels = np.array(tempTrainLabels)\n",
    "            \n",
    "            # Sorting; increasing order of distance\n",
    "            idx = distList.argsort()   \n",
    "            distList = distList[idx]\n",
    "            tempTrainLabels = tempTrainLabels[idx]\n",
    "    \n",
    "            # Extracting first k lables\n",
    "            tempTrainLabels = tempTrainLabels[:self.k]\n",
    "            predictedLables[i] = self.findLabel(tempTrainLabels)\n",
    "            \n",
    "        #Finding Accuracy\n",
    "        correctPrediction = 0\n",
    "        for i in range(m_test):\n",
    "            if(predictedLables[i] == testLabels[i]):\n",
    "                correctPrediction += 1\n",
    "        acc = (correctPrediction/m_test * 100)\n",
    "#         print(\"Accuracy =\", acc )\n",
    "        return acc\n",
    "            \n",
    "    def findLabel(self,tempList):\n",
    "        return(mode(tempList))\n",
    "    \n",
    "    def euclideanDist(self, x, y):\n",
    "        return np.sqrt(np.sum((x-y)**2))\n",
    "\n",
    "    def dist(self,x,y):\n",
    "        dist = 0\n",
    "        for i in range(len(x)):\n",
    "            dist += (x[i]-y[i])**self.p\n",
    "        return (dist)**(1/self.p)\n",
    "        "
   ]
  },
  {
   "cell_type": "code",
   "execution_count": 64,
   "id": "7bb540f3",
   "metadata": {},
   "outputs": [],
   "source": [
    "# Plot comparing value of k and the corresponding accuracy\n",
    "\n",
    "# flag = 0 -> Curve for k vs accuracy\n",
    "# flag = 1 -> Curve for p vs accuracy\n",
    "def plotAccCurve(y,flag = 0):\n",
    "    x = [(i+1) for i in range(0,len(y))]\n",
    "\n",
    "    # Plotting the Graph\n",
    "    plt.plot(x, y)\n",
    "    plt.title(\"Accuracy Curve\")\n",
    "    if (flag == 1):\n",
    "        plt.xlabel(\"p(Distance Metric)\")\n",
    "        plt.ylabel(\"Accuracy: p vs accuracy\")\n",
    "    else:\n",
    "        plt.xlabel(\"k\")\n",
    "        plt.ylabel(\"Accuracy: k vs accuracy\")\n",
    "    plt.show()    "
   ]
  },
  {
   "cell_type": "code",
   "execution_count": 65,
   "id": "b7cd7a64",
   "metadata": {},
   "outputs": [
    {
     "name": "stdout",
     "output_type": "stream",
     "text": [
      "(120, 4)\n",
      "(30, 4)\n",
      "(120,)\n",
      "(30,)\n"
     ]
    }
   ],
   "source": [
    "# Loading iris dataset\n",
    "iris = datasets.load_iris()\n",
    "tempX, tempY= iris.data, iris.target\n",
    "m = tempX.shape[0]\n",
    "trainData,testData, trainLabels, testLabels = train_test_split(tempX, tempY, test_size = 0.2, random_state = 1234)\n",
    "\n",
    "print(trainData.shape)\n",
    "print(testData.shape)\n",
    "print(trainLabels.shape)\n",
    "print(testLabels.shape)\n",
    "\n",
    "m_train = trainData.shape[0]\n",
    "m_test = m - m_train"
   ]
  },
  {
   "cell_type": "code",
   "execution_count": 66,
   "id": "1e9be2e8",
   "metadata": {},
   "outputs": [
    {
     "data": {
      "image/png": "[encoded data removed]",
      "text/plain": [
       "<Figure size 432x288 with 1 Axes>"
      ]
     },
     "metadata": {
      "needs_background": "light"
     },
     "output_type": "display_data"
    }
   ],
   "source": [
    "# Using KNN Class to predict labels\n",
    "#Plotting k vs accuracy\n",
    "accList = []\n",
    "for z in range(1,150):\n",
    "    obj = KNN(z)\n",
    "    obj.fit(trainData,trainLabels)\n",
    "    accList.append(obj.predict(testData,testLabels))\n",
    "    \n",
    "plotAccCurve(accList)"
   ]
  },
  {
   "cell_type": "markdown",
   "id": "a6dd5307",
   "metadata": {},
   "source": [
    "Accuracy degrades with increase in value of k; It is observed that for k>60 for this particular dataset, the accuracy of the KNN drops significantly."
   ]
  },
  {
   "cell_type": "code",
   "execution_count": 67,
   "id": "9b707087",
   "metadata": {},
   "outputs": [
    {
     "name": "stderr",
     "output_type": "stream",
     "text": [
      "C:\\Users\\ujjaw\\AppData\\Local\\Temp/ipykernel_13308/228799801.py:59: RuntimeWarning: invalid value encountered in double_scalars\n",
      "  return (dist)**(1/self.p)\n"
     ]
    },
    {
     "data": {
      "image/png": "[encoded data removed]",
      "text/plain": [
       "<Figure size 432x288 with 1 Axes>"
      ]
     },
     "metadata": {
      "needs_background": "light"
     },
     "output_type": "display_data"
    }
   ],
   "source": [
    "# Using KNN Class to predict labels\n",
    "#Plotting p vs accuracy\n",
    "accList = []\n",
    "for p in range(1,20):\n",
    "    obj = KNN(3, p)\n",
    "    obj.fit(trainData,trainLabels)\n",
    "    accList.append(obj.predict(testData,testLabels))\n",
    "    \n",
    "plotAccCurve(accList,1)"
   ]
  },
  {
   "cell_type": "markdown",
   "id": "823fc6c8",
   "metadata": {},
   "source": [
    "Accuracy remains almost the same for p >= 2. For p = 1, the accuracy is very bad, but for other p, it is similar to using euclidean distance. Hence, we use euclidean distance as it gives best accuracy with lesser mathematical complexity."
   ]
  }
 ],
 "metadata": {
  "kernelspec": {
   "display_name": "Python 3 (ipykernel)",
   "language": "python",
   "name": "python3"
  },
  "language_info": {
   "codemirror_mode": {
    "name": "ipython",
    "version": 3
   },
   "file_extension": ".py",
   "mimetype": "text/x-python",
   "name": "python",
   "nbconvert_exporter": "python",
   "pygments_lexer": "ipython3",
   "version": "3.10.5"
  }
 },
 "nbformat": 4,
 "nbformat_minor": 5
}
