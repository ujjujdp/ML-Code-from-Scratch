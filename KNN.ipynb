{
 "cells": [
  {
   "cell_type": "code",
   "execution_count": 153,
   "id": "b7b13b46",
   "metadata": {},
   "outputs": [],
   "source": [
    "#Importing necessary libraries\n",
    "import math\n",
    "import numpy as np\n",
    "from sklearn import datasets\n",
    "import statistics\n",
    "from statistics import mode\n",
    "import matplotlib.pyplot as plt"
   ]
  },
  {
   "cell_type": "code",
   "execution_count": 154,
   "id": "ad271275",
   "metadata": {},
   "outputs": [
    {
     "name": "stdout",
     "output_type": "stream",
     "text": [
      "(150, 4)\n",
      "(150, 1)\n"
     ]
    }
   ],
   "source": [
    "# Loading iris dataset\n",
    "iris = datasets.load_iris()\n",
    "tempX, tempY= iris.data, iris.target\n",
    "m = tempX.shape[0]\n",
    "\n",
    "tempY = tempY.reshape(150,1)\n",
    "print(tempX.shape)\n",
    "print(tempY.shape)"
   ]
  },
  {
   "cell_type": "code",
   "execution_count": 155,
   "id": "e436d6ed",
   "metadata": {},
   "outputs": [
    {
     "name": "stdout",
     "output_type": "stream",
     "text": [
      "(150, 5)\n",
      "(150, 5)\n",
      "(150, 4)\n",
      "(150,)\n"
     ]
    }
   ],
   "source": [
    "# Random Shuffle\n",
    "x_y = np.concatenate((tempX,tempY),axis = 1)\n",
    "np.random.shuffle(x_y)\n",
    "print(x_y.shape)\n",
    "\n",
    "x = x_y[:,:4]\n",
    "y = x_y[:,4]\n",
    "\n",
    "print(x_y.shape)\n",
    "print(x.shape)\n",
    "print(y.shape)"
   ]
  },
  {
   "cell_type": "code",
   "execution_count": 156,
   "id": "c95a0f3b",
   "metadata": {},
   "outputs": [
    {
     "name": "stdout",
     "output_type": "stream",
     "text": [
      "120\n",
      "30\n",
      "(120, 4)\n",
      "(30, 4)\n",
      "(120,)\n",
      "(30,)\n"
     ]
    }
   ],
   "source": [
    "# Splitting the dataset into train and test set\n",
    "\n",
    "m_train = 120\n",
    "m_test = m - m_train\n",
    "\n",
    "print(m_train)\n",
    "print(m_test)\n",
    "\n",
    "trainData = x[:m_train,:]\n",
    "testData = x[m_train:,:]\n",
    "\n",
    "trainLabels = y[:m_train]\n",
    "testLabels = y[m_train:]\n",
    "\n",
    "print(trainData.shape)\n",
    "print(testData.shape)\n",
    "print(trainLabels.shape)\n",
    "print(testLabels.shape)"
   ]
  },
  {
   "cell_type": "code",
   "execution_count": 157,
   "id": "5ebe1c27",
   "metadata": {},
   "outputs": [],
   "source": [
    "# Implementing KNN as a class\n",
    "class KNN:\n",
    "    def __init__(self,k):\n",
    "        self.k = k\n",
    "        \n",
    "    def fit(self,x,y):\n",
    "        self.trainData = x\n",
    "        self.trainLabels = y\n",
    "    \n",
    "    def predict(self,testData,testLabels):\n",
    "        predictedLables = [-1 for q in range(m_test)]\n",
    "        \n",
    "        #Testing for each test sample\n",
    "        for i in range(m_test):\n",
    "            distList = [0 for q in range(m_train)]\n",
    "            for j in range(m_train):\n",
    "                #Finding Distance from each training sample\n",
    "                distList[j] = self.euclideanDist(testData[i], self.trainData[j])\n",
    "            \n",
    "            tempTrainLabels = self.trainLabels\n",
    "            \n",
    "            distList = np.array(distList)\n",
    "            tempTrainLabels = np.array(tempTrainLabels)\n",
    "            \n",
    "            # Sorting; increasing order of distance\n",
    "            idx = distList.argsort()   \n",
    "            distList = distList[idx]\n",
    "            tempTrainLabels = tempTrainLabels[idx]\n",
    "    \n",
    "            # Extracting first k lables\n",
    "            tempTrainLabels = tempTrainLabels[:self.k]\n",
    "            predictedLables[i] = self.findLabel(tempTrainLabels)\n",
    "            \n",
    "        #Finding Accuracy\n",
    "        correctPrediction = 0\n",
    "        for i in range(m_test):\n",
    "            if(predictedLables[i] == testLabels[i]):\n",
    "                correctPrediction += 1\n",
    "        acc = (correctPrediction/m_test * 100)\n",
    "#         print(\"Accuracy =\", acc )\n",
    "        return acc\n",
    "            \n",
    "    def findLabel(self,tempList):\n",
    "        return(mode(tempList))\n",
    "    \n",
    "    def euclideanDist(self, x, y):\n",
    "        dist = 0\n",
    "        for i in range(len(x)):\n",
    "            dist += (x[i]-y[i])**2\n",
    "        return math.sqrt(dist)"
   ]
  },
  {
   "cell_type": "code",
   "execution_count": 158,
   "id": "1e9be2e8",
   "metadata": {},
   "outputs": [],
   "source": [
    "# Using KNN Class to predict labels\n",
    "accList = []\n",
    "for z in range(1,150):\n",
    "    obj = KNN(z)\n",
    "    obj.fit(trainData,trainLabels)\n",
    "    accList.append(obj.predict(testData,testLabels))"
   ]
  },
  {
   "cell_type": "code",
   "execution_count": 159,
   "id": "7bb540f3",
   "metadata": {},
   "outputs": [],
   "source": [
    "# Plot comparing value of k and the corresponding accuracy\n",
    "def plotAccCurve(y):\n",
    "    x = [(i+1) for i in range(0,len(y))]\n",
    "\n",
    "    # Plotting the Graph\n",
    "    plt.plot(x, y)\n",
    "    plt.title(\"Accuracy Curve\")\n",
    "    plt.xlabel(\"k\")\n",
    "    plt.ylabel(\"Accuracy\")\n",
    "    plt.show()    "
   ]
  },
  {
   "cell_type": "code",
   "execution_count": 160,
   "id": "72834068",
   "metadata": {},
   "outputs": [
    {
     "data": {
      "image/png": "[encoded data removed]",
      "text/plain": [
       "<Figure size 432x288 with 1 Axes>"
      ]
     },
     "metadata": {
      "needs_background": "light"
     },
     "output_type": "display_data"
    }
   ],
   "source": [
    "plotAccCurve(accList)"
   ]
  }
 ],
 "metadata": {
  "kernelspec": {
   "display_name": "Python 3 (ipykernel)",
   "language": "python",
   "name": "python3"
  },
  "language_info": {
   "codemirror_mode": {
    "name": "ipython",
    "version": 3
   },
   "file_extension": ".py",
   "mimetype": "text/x-python",
   "name": "python",
   "nbconvert_exporter": "python",
   "pygments_lexer": "ipython3",
   "version": "3.9.7"
  }
 },
 "nbformat": 4,
 "nbformat_minor": 5
}
